{
 "cells": [
  {
   "cell_type": "markdown",
   "metadata": {},
   "source": [
    "# Детекция типов товара"
   ]
  },
  {
   "cell_type": "markdown",
   "metadata": {},
   "source": [
    "## Постановка задачи"
   ]
  },
  {
   "cell_type": "markdown",
   "metadata": {},
   "source": [
    "Необходимо создать модель, обрабатывающую фрагмент текста и определяющую, какой вид продукции в этом фрагменте содержится.\n",
    "\n",
    "Датасет можно скачать по следующей [ссылке](https://axe.inline-ltd.ru/data/meatinfo.csv). В нём есть множество видов продукции, анализируем только те из них, для которых есть хотя бы 500 примеров."
   ]
  },
  {
   "cell_type": "markdown",
   "metadata": {},
   "source": [
    "## Краткое описание способа решения"
   ]
  },
  {
   "cell_type": "markdown",
   "metadata": {},
   "source": [
    "Предобработка текста осуществлялась с помощью `лемматизации` и `очистки` от ненужных слов и символов (стоп-слова, пунктуация и тд)  \n",
    "Токенизация с помощью библиотеки `youtokentome` по методу `Byte Pair Encoding`, мешка n-грамм. Библиотека написана на С++, поэтому для её работы нужно обязательно Miscrosoft Visual Studio Build Tools для Windows или gcc++ для Linux. Без этих инструментов библиотека работать `не будет`.  \n",
    "Модель `BERT`-архитектуры, написанная с помощью собственных блоков. Для обучения используется `lightning` и `hydra` для менеджмента конфигов.  \n",
    "Итоговая модель выгружена в формат `onnx`.  \n",
    "\n",
    "Для использования модели в файле `tests/prod_functions.py` есть необходимая функция `get_result`, а в `tests/some_tests.py` есть пример по использованию."
   ]
  },
  {
   "cell_type": "markdown",
   "metadata": {},
   "source": [
    "## Краткие результаты"
   ]
  },
  {
   "cell_type": "markdown",
   "metadata": {},
   "source": [
    "Была обучена совсем небольшая модель BERT-архитектуры (4.4 млн. параметров, 17.5 Мб), которая дала точность в 92% (примерно 7% точности утекли в определение классов \"Кура\" и \"Цыплёнок\", которые модель немного путает). "
   ]
  },
  {
   "cell_type": "markdown",
   "metadata": {},
   "source": [
    "## Импорты библиотек"
   ]
  },
  {
   "cell_type": "code",
   "execution_count": 4,
   "metadata": {},
   "outputs": [
    {
     "name": "stderr",
     "output_type": "stream",
     "text": [
      "[nltk_data] Downloading package stopwords to\n",
      "[nltk_data]     /home/alagril/nltk_data...\n",
      "[nltk_data]   Package stopwords is already up-to-date!\n"
     ]
    }
   ],
   "source": [
    "import pandas as pd\n",
    "import numpy as np\n",
    "import matplotlib.pyplot as plt\n",
    "\n",
    "import nltk\n",
    "nltk.download(\"stopwords\")\n",
    "from nltk.corpus import stopwords\n",
    "from pymystem3 import Mystem\n",
    "from string import punctuation\n",
    "from sklearn.model_selection import train_test_split\n",
    "import re\n",
    "\n",
    "import youtokentome as yttm"
   ]
  },
  {
   "cell_type": "markdown",
   "metadata": {},
   "source": [
    "## Загрузка данных и их анализ"
   ]
  },
  {
   "cell_type": "markdown",
   "metadata": {},
   "source": [
    "Для начала необходимо посмотреть, как выглядят данные, что они из себя представляют"
   ]
  },
  {
   "cell_type": "code",
   "execution_count": 1,
   "metadata": {},
   "outputs": [],
   "source": [
    "# Относительный путь к данным для обработки в формате *.csv\n",
    "filepath = \"datasets/meatinfo.csv\""
   ]
  },
  {
   "cell_type": "code",
   "execution_count": 3,
   "metadata": {},
   "outputs": [],
   "source": [
    "dt = pd.read_csv(filepath, sep=\";\", header=0)\n",
    "dt.dropna(inplace=True)"
   ]
  },
  {
   "cell_type": "code",
   "execution_count": 19,
   "metadata": {},
   "outputs": [
    {
     "name": "stdout",
     "output_type": "stream",
     "text": [
      "['Баранина, 12 частей, охл. цена 450 руб.'\n",
      " 'Баранина, 12 частей, охл. цена 455 руб.'\n",
      " 'Баранина, 12 частей, охл. цена 550 руб.'\n",
      " 'Баранина   Продам Баранина  на складе\\n\\n 6 кусков вес до 20 кг - 344 бойня. Постная есть фото. - 160 руб\\n\\nОкорок бк - 275 руб'\n",
      " 'Баранина (6 отрубов) ООО \"МК Сибирский Крестьянин\"  реализует мясо баранины на кости (6 отрубов) заморозка, цена 220 руб/кг.'\n",
      " 'Баранина (разруб в 6 частях), Продам баранину в 6 частях.(Midfield). Сроки короткие.\\nНа остатках 1500 кг.'\n",
      " 'баранина (ягнята) замороженная 6 частей баранинна (ягнята) дагестанская, разделанные на 6 частей замороженные (шоковая заморозка) упакованная в гофротару, имеются все документы.\\n доставка до Москвы бесплатно. цена 265-285 руб.'\n",
      " 'баранина 6 отрубов'\n",
      " 'Баранина 6 отрубов (зам.) РФ - 240,00 Продам баранину 6 отрубов, заморож., на кости, в анатомической пропорции в гофрокоробе 22-25кг, РФ. \\nНа постоянной основе. Доставка. Цена 240,00 руб/кг. На объем предоставляется скидка.'\n",
      " 'Баранина 6 отрубов ООО \" МК Сибирский Крестьянин\" реализует мясо баранины на кости (6 отрубов) заморозка, цена 220 руб/кг.']\n",
      "\n",
      "['Баранина' 'Баранина' 'Баранина' 'Баранина' 'Баранина' 'Баранина'\n",
      " 'Баранина' 'Баранина' 'Баранина' 'Баранина']\n"
     ]
    }
   ],
   "source": [
    "n_start = 15\n",
    "n_end = 25\n",
    "\n",
    "print(dt[\"text\"][n_start:n_end].to_numpy())\n",
    "print()\n",
    "print(dt[\"mtype\"][n_start:n_end].to_numpy())"
   ]
  },
  {
   "cell_type": "markdown",
   "metadata": {},
   "source": [
    "Итак, что мы можем видеть\n",
    "\n",
    "- В текстах присутствует очень много сокращений\n",
    "- Тексты могут достаточно сильно отличаться по размеру. Где-то это пара слов, а где-то это может быть несколько абзацев.\n",
    "- В текстах присутствует много дополнительной и не нужной для понимания типа товара информации, вроде цен, веса, местами обильные знаки препинания, контакты для связи"
   ]
  },
  {
   "cell_type": "markdown",
   "metadata": {},
   "source": [
    "Посмотрим на классы товаров, которые встречаются в нашей выборке"
   ]
  },
  {
   "cell_type": "code",
   "execution_count": 21,
   "metadata": {},
   "outputs": [
    {
     "data": {
      "text/plain": [
       "mtype\n",
       " Лопаточная часть (Chuck) буйвол                                                              1\n",
       "(OFFAL EXP №4407 Аргентина)                                                                   1\n",
       "125р.                                                                                         1\n",
       "295,00 руб|кг                                                                                 1\n",
       "Feb-20                                                                                        2\n",
       "Mar-20                                                                                        1\n",
       "OFFAL EXP №4407 Аргентина                                                                     1\n",
       "Баранина                                                                                   1116\n",
       "Бобер                                                                                         1\n",
       "Буйволятина                                                                                  75\n",
       "Глухарь                                                                                       1\n",
       "Говядина                                                                                   8420\n",
       "Говядина, полутуши, 1 категория,  охл., Россия, подвес, В наличии, 10 тонн, 270 руб. кг       1\n",
       "Гусь                                                                                        125\n",
       "Заяц                                                                                          2\n",
       "Изюбр                                                                                         3\n",
       "Индейка                                                                                    1337\n",
       "Кабан                                                                                        24\n",
       "Кенгуру                                                                                       2\n",
       "Коза                                                                                          1\n",
       "Конина                                                                                      176\n",
       "Косуля                                                                                        8\n",
       "Кролик                                                                                      334\n",
       "Кура                                                                                       1570\n",
       "Куропатка                                                                                     7\n",
       "Лось                                                                                         20\n",
       "Марал                                                                                         7\n",
       "Медвежатина                                                                                   4\n",
       "Нутрия                                                                                        2\n",
       "Оленина                                                                                     193\n",
       "Парагвай                                                                                      2\n",
       "Перепел                                                                                      54\n",
       "Рябчик                                                                                        1\n",
       "Свинина                                                                                    3049\n",
       "Страус                                                                                       10\n",
       "Телятина                                                                                     98\n",
       "Тетерев                                                                                       1\n",
       "Утка                                                                                        195\n",
       "Фазан                                                                                         4\n",
       "Цесарка                                                                                       7\n",
       "Цыпленок                                                                                    942\n",
       "Ягнятина                                                                                     76\n",
       "Як                                                                                            2\n",
       "говядина                                                                                      1\n",
       "индейка                                                                                       2\n",
       "свиниеа                                                                                       1\n",
       "свинина                                                                                       3\n",
       "утка                                                                                          1\n",
       "цыпленок                                                                                      2\n",
       "Name: text, dtype: int64"
      ]
     },
     "execution_count": 21,
     "metadata": {},
     "output_type": "execute_result"
    }
   ],
   "source": [
    "labels = dt.groupby(\"mtype\")[\"text\"].nunique()\n",
    "labels"
   ]
  },
  {
   "cell_type": "markdown",
   "metadata": {},
   "source": [
    "Как видно, если смотреть по уникальным значениям, тут очень много классов товаров, количество примеров которых не превышает и 10 (Бобёр, Коза, Медвежатина и др.). На таком количестве примеров, конечно, обучиться нельзя. Также здесь присутсвуют ошибки и выбросы (\"Лопаточная часть (Chuck) буйвол\" или \"295,00 руб|кг\"), которые также надо исключить из выборки для обучения.\n",
    "\n",
    "Поэтому мы возьмём только те классы, количество примеров для которых начинается от 500 (по ТЗ)."
   ]
  },
  {
   "cell_type": "code",
   "execution_count": 22,
   "metadata": {},
   "outputs": [
    {
     "data": {
      "text/plain": [
       "['Баранина', 'Говядина', 'Индейка', 'Кура', 'Свинина', 'Цыпленок']"
      ]
     },
     "execution_count": 22,
     "metadata": {},
     "output_type": "execute_result"
    }
   ],
   "source": [
    "labels = labels.loc[labels >= 500].index.tolist()\n",
    "labels"
   ]
  },
  {
   "cell_type": "markdown",
   "metadata": {},
   "source": [
    "И у нас осталось только вот эти 6 классов:\n",
    "- Баранина\n",
    "- Говядина\n",
    "- Индейка\n",
    "- Кура\n",
    "- Свинина\n",
    "- Цыпленок\n",
    "\n",
    "Также можно сразу отметить, что классы \"Кура\" и \"Цыплёнок\" могут быть схожи и модель может их путать"
   ]
  },
  {
   "cell_type": "markdown",
   "metadata": {},
   "source": [
    "Составим словарик перевода этих классов в числовой вариант"
   ]
  },
  {
   "cell_type": "code",
   "execution_count": 36,
   "metadata": {},
   "outputs": [
    {
     "name": "stdout",
     "output_type": "stream",
     "text": [
      "{'Баранина': 0, 'Говядина': 1, 'Индейка': 2, 'Кура': 3, 'Свинина': 4, 'Цыпленок': 5}\n"
     ]
    }
   ],
   "source": [
    "label_to_num = dict()\n",
    "for idx in range(len(labels)):\n",
    "    label_to_num[labels[idx]] = idx\n",
    "\n",
    "print(label_to_num)"
   ]
  },
  {
   "cell_type": "markdown",
   "metadata": {},
   "source": [
    "Теперь оставим в нашем датасете только примеры для этих шести перечисленных выше классов товаров"
   ]
  },
  {
   "cell_type": "code",
   "execution_count": 23,
   "metadata": {},
   "outputs": [],
   "source": [
    "dt = dt.loc[dt[\"mtype\"].isin(labels)]"
   ]
  },
  {
   "cell_type": "code",
   "execution_count": 24,
   "metadata": {},
   "outputs": [
    {
     "data": {
      "text/plain": [
       "mtype\n",
       "Баранина    1116\n",
       "Говядина    8420\n",
       "Индейка     1337\n",
       "Кура        1570\n",
       "Свинина     3049\n",
       "Цыпленок     942\n",
       "Name: text, dtype: int64"
      ]
     },
     "execution_count": 24,
     "metadata": {},
     "output_type": "execute_result"
    }
   ],
   "source": [
    "dt.groupby(\"mtype\")[\"text\"].nunique()"
   ]
  },
  {
   "cell_type": "markdown",
   "metadata": {},
   "source": [
    "Построим график распределения примеров для каждого класса для наглядности"
   ]
  },
  {
   "cell_type": "code",
   "execution_count": 25,
   "metadata": {},
   "outputs": [],
   "source": [
    "def plot_unique_labels(labels, plot_name = \"Распределение уникальных значений\"):\n",
    "    \"\"\"Функция для построение графика распределения классов в выборке\"\"\"\n",
    "    unique_labels, count_unique_labels = np.unique(labels, return_counts=True)\n",
    "    plt.barh(width = count_unique_labels, y=list(unique_labels))\n",
    "    plt.title(plot_name)\n",
    "    plt.show()"
   ]
  },
  {
   "cell_type": "code",
   "execution_count": 26,
   "metadata": {},
   "outputs": [
    {
     "data": {
      "image/png": "[encoded data removed]",
      "text/plain": [
       "<Figure size 640x480 with 1 Axes>"
      ]
     },
     "metadata": {},
     "output_type": "display_data"
    }
   ],
   "source": [
    "plot_unique_labels(dt[\"mtype\"])"
   ]
  },
  {
   "cell_type": "markdown",
   "metadata": {},
   "source": [
    "На графике видно, что распределение примеров не одинаково. Примеров для \"Говядины\", в сравнении с остальными, очень много, больше 8000, тогда как для \"Цыплёнка\" примеров не доходит и до 1000"
   ]
  },
  {
   "cell_type": "markdown",
   "metadata": {},
   "source": [
    "## Предобработка данных"
   ]
  },
  {
   "cell_type": "markdown",
   "metadata": {},
   "source": [
    "Поскольку у нас задача классификации текстов, задача сохранить для анализа исходный вариант отзыва у нас не стоит, нам важно передать только суть. Поэтому для сокращения словаря мы используем `лемматизацию` - приведение исходного слова в его начальную форму.\n",
    "\n",
    "Также необходимо убрать \"стоп-слова\" - слова, которые часто встречаются в речи, но при этом несут очень мало смысловой нагрузки - и знаки пунктуации, которые в нашей задаче практически не несут смысла, при этом сокращая словарь"
   ]
  },
  {
   "cell_type": "markdown",
   "metadata": {},
   "source": [
    "### Лемматизация и очистка данных"
   ]
  },
  {
   "cell_type": "markdown",
   "metadata": {},
   "source": [
    "Лемматизацию проводим с помощью библиотеки `pymystem3`"
   ]
  },
  {
   "cell_type": "code",
   "execution_count": 30,
   "metadata": {},
   "outputs": [],
   "source": [
    "mystem = Mystem()"
   ]
  },
  {
   "cell_type": "markdown",
   "metadata": {},
   "source": [
    "Также из библиотеки `nltk` возьмём список стоп-слов"
   ]
  },
  {
   "cell_type": "code",
   "execution_count": 32,
   "metadata": {},
   "outputs": [
    {
     "data": {
      "text/plain": [
       "array(['и', 'в', 'во', 'не', 'что', 'он', 'на', 'я', 'с', 'со', 'как',\n",
       "       'а', 'то', 'все', 'она', 'так', 'его', 'но', 'да', 'ты', 'к', 'у',\n",
       "       'же', 'вы', 'за', 'бы', 'по', 'только', 'ее', 'мне', 'было', 'вот',\n",
       "       'от', 'меня', 'еще', 'нет', 'о', 'из', 'ему', 'теперь', 'когда',\n",
       "       'даже', 'ну', 'вдруг', 'ли', 'если', 'уже', 'или', 'ни', 'быть',\n",
       "       'был', 'него', 'до', 'вас', 'нибудь', 'опять', 'уж', 'вам', 'ведь',\n",
       "       'там', 'потом', 'себя', 'ничего', 'ей', 'может', 'они', 'тут',\n",
       "       'где', 'есть', 'надо', 'ней', 'для', 'мы', 'тебя', 'их', 'чем',\n",
       "       'была', 'сам', 'чтоб', 'без', 'будто', 'чего', 'раз', 'тоже',\n",
       "       'себе', 'под', 'будет', 'ж', 'тогда', 'кто', 'этот', 'того',\n",
       "       'потому', 'этого', 'какой', 'совсем', 'ним', 'здесь', 'этом',\n",
       "       'один', 'почти', 'мой', 'тем', 'чтобы', 'нее', 'сейчас', 'были',\n",
       "       'куда', 'зачем', 'всех', 'никогда', 'можно', 'при', 'наконец',\n",
       "       'два', 'об', 'другой', 'хоть', 'после', 'над', 'больше', 'тот',\n",
       "       'через', 'эти', 'нас', 'про', 'всего', 'них', 'какая', 'много',\n",
       "       'разве', 'три', 'эту', 'моя', 'впрочем', 'хорошо', 'свою', 'этой',\n",
       "       'перед', 'иногда', 'лучше', 'чуть', 'том', 'нельзя', 'такой', 'им',\n",
       "       'более', 'всегда', 'конечно', 'всю', 'между'], dtype='<U7')"
      ]
     },
     "execution_count": 32,
     "metadata": {},
     "output_type": "execute_result"
    }
   ],
   "source": [
    "russian_stopswords = stopwords.words(\"russian\")\n",
    "np.array(russian_stopswords)"
   ]
  },
  {
   "cell_type": "markdown",
   "metadata": {},
   "source": [
    "И знаки пунктуации из встроенного модуля `string`"
   ]
  },
  {
   "cell_type": "code",
   "execution_count": 33,
   "metadata": {},
   "outputs": [
    {
     "data": {
      "text/plain": [
       "'!\"#$%&\\'()*+,-./:;<=>?@[\\\\]^_`{|}~'"
      ]
     },
     "execution_count": 33,
     "metadata": {},
     "output_type": "execute_result"
    }
   ],
   "source": [
    "punctuation"
   ]
  },
  {
   "cell_type": "code",
   "execution_count": 34,
   "metadata": {},
   "outputs": [],
   "source": [
    "def text_lemmatize(text):\n",
    "    \"\"\"Функция для лемматизации текста с помощью библиотеки pymystem3\"\"\"\n",
    "    mystem = Mystem()\n",
    "    russian_stopswords = stopwords.words(\"russian\")\n",
    "    \n",
    "    lemma_texts = [mystem.lemmatize(phrase) for phrase in text]\n",
    "    answer = []\n",
    "    for phrase in lemma_texts:\n",
    "        temp_phrase = [token for token in phrase if token not in russian_stopswords and token != \" \" and token.strip() not in punctuation]\n",
    "        answer.append(temp_phrase)\n",
    "    return answer"
   ]
  },
  {
   "cell_type": "code",
   "execution_count": 38,
   "metadata": {},
   "outputs": [],
   "source": [
    "# Лемматизация текста\n",
    "lemma_texts = text_lemmatize(dt[\"text\"])"
   ]
  },
  {
   "cell_type": "code",
   "execution_count": 39,
   "metadata": {},
   "outputs": [],
   "source": [
    "# Перевод классовых меток из текста в числа\n",
    "num_labels = [label_to_num[label] for label in dt[\"mtype\"]]"
   ]
  },
  {
   "cell_type": "markdown",
   "metadata": {},
   "source": [
    "Посмотрим на то, как выглядит текст отзыва после лемматизации и удалении стоп-слов и знаков пунктуации"
   ]
  },
  {
   "cell_type": "code",
   "execution_count": 41,
   "metadata": {},
   "outputs": [
    {
     "name": "stdout",
     "output_type": "stream",
     "text": [
      "12 частей баранина  12 частей баранина  --  Баранина\n",
      "Баранина, 12 частей, зам. цена 260 руб.  --  Баранина\n",
      "Баранина, 12 частей, зам. цена 315 руб.  --  Баранина\n",
      "Баранина, 12 частей, охл.  --  Баранина\n",
      "Баранина, 12 частей, охл. цена 220 руб.  --  Баранина\n",
      "-----\n",
      "['12', 'часть', 'баранина', '12', 'часть', 'баранина']  --  0\n",
      "['баранина', '12', 'часть', 'зам', 'цена', '260', 'руб']  --  0\n",
      "['баранина', '12', 'часть', 'зам', 'цена', '315', 'руб']  --  0\n",
      "['баранина', '12', 'часть', 'охла']  --  0\n",
      "['баранина', '12', 'часть', 'охла', 'цена', '220', 'руб']  --  0\n"
     ]
    }
   ],
   "source": [
    "for i in range(5):\n",
    "    print(dt[\"text\"][i], \" -- \", dt[\"mtype\"][i])\n",
    "print(\"-----\")\n",
    "for i in range(5):\n",
    "    print(lemma_texts[i], \" -- \", num_labels[i])"
   ]
  },
  {
   "cell_type": "markdown",
   "metadata": {},
   "source": [
    "Видим, что лемматизация сравнительно неплохо справилась с сокращениями - по крайней мере, она не сломалась. Хотя в текстах всё ещё присутствуют цифры, которые не играют никакой роли в определении класса товара"
   ]
  },
  {
   "cell_type": "markdown",
   "metadata": {},
   "source": [
    "Для очистки текстов от различных мелочей, которые лучше не обрабатывать перед построением словаря, можно воспользоваться регулярным выражением `[а-яА-Я ]+`. В этом случае в тексте отзывов останутся только буквы и пробелы"
   ]
  },
  {
   "cell_type": "code",
   "execution_count": 48,
   "metadata": {},
   "outputs": [],
   "source": [
    "def for_txt_file(texts, filename):\n",
    "    \"\"\"Фунция оставляет в тексте только символы букв и пробелы с помощью регулярного выражения, \n",
    "    а также записыват текст в файл .txt формата для дальнейшей обработки токенизатором\"\"\"\n",
    "    file = open(filename, \"w\")\n",
    "    for phrase in texts:\n",
    "        phr = \" \".join(phrase)\n",
    "        phr = re.findall(\"[а-яА-Я ]+\", phr)\n",
    "        phr = \" \".join(phr) + \"\\n\"\n",
    "        file.write(phr)\n",
    "    file.close()"
   ]
  },
  {
   "cell_type": "code",
   "execution_count": 49,
   "metadata": {},
   "outputs": [],
   "source": [
    "# Путь до нового файла в формате .txt для записи предобработанного текста\n",
    "filename_lemma = \"datasets/lem_text.txt\""
   ]
  },
  {
   "cell_type": "code",
   "execution_count": 50,
   "metadata": {},
   "outputs": [],
   "source": [
    "for_txt_file(lemma_texts, filename_lemma)"
   ]
  },
  {
   "cell_type": "markdown",
   "metadata": {},
   "source": [
    "Посмотрим, все ли тексты перекодировались правильны и не исчезли ли какие-то объявления"
   ]
  },
  {
   "cell_type": "code",
   "execution_count": 52,
   "metadata": {},
   "outputs": [
    {
     "name": "stdout",
     "output_type": "stream",
     "text": [
      "16438\n",
      "16438\n"
     ]
    }
   ],
   "source": [
    "print(len(dt[\"text\"]))\n",
    "print(len(lemma_texts))"
   ]
  },
  {
   "cell_type": "markdown",
   "metadata": {},
   "source": [
    "Что после лемматизации, что после очистки регулярными выражениями количество объявлений о продаже мяса осталось равным 16438. Значит, ничего из них не потерялось, и мы можем их в дальнейшем подгружать из уже предобработанного txt-файла"
   ]
  },
  {
   "cell_type": "markdown",
   "metadata": {},
   "source": [
    "### Построение словаря с помощью Byte-Pair Encoding"
   ]
  },
  {
   "cell_type": "markdown",
   "metadata": {},
   "source": [
    "Поскольку у нас задача на специфичную область, словарь токенов нам нужен специфичный и отражающий нашу область и проблематику. Поэтому словарь будем строить с помощью мешка n-грамм, реализованного через BPE библиотеки `youtokentome`. Таким образом для наших конкретных текстов построиться словарь, который будет отражать конкретную специфичную выборку.  \n",
    "Однако надо подобрать размер словаря, который будет лучше всего аппроксимировать самые частые n-граммы"
   ]
  },
  {
   "cell_type": "code",
   "execution_count": 59,
   "metadata": {},
   "outputs": [
    {
     "name": "stdout",
     "output_type": "stream",
     "text": [
      "<PAD> <UNK> <BOS> <EOS> ▁ о а н р и т к е с в д л й г у п б м ь я ы з ж ц ч ш ф х щ ю ъ э Р Б К С П М Т З Д Ф Ч О В А Н Л Х Г Ш Ц У Ж И Е Я Ы Ъ Й на ▁к ов ▁п ▁г ▁с ть ка ▁р ый ро ▁о ный ст ▁гов ина уб ать ▁говя ин ий ▁м ор ен ▁з ▁б ▁ц ▁т во ▁руб ▁за ла дина ▁говядина ой ▁це ол ▁в ок ра ▁цена ре ост ▁про ▁д ▁св ия ▁зам ав ос ▁кг ат ▁свин ри ел оро ▁н он ер жи ие ▁мя ес ли ло ▁ку жий ▁на ▁мяс ▁свиной ▁об ▁говяжий ▁прод ▁ф ет уш кий вать ру од ей ар от ред ить ▁мясо ство ан ▁ин остав из орт ак вод ▁у ит ль ▁пол ▁жи ▁инд ег ент ас чный ▁произ ▁гост ▁производ ▁вы ейка ▁кури ▁пред ▁от оставка хла ень ова ▁вес ▁охла ▁ко ▁кат ▁ш ара ▁индейка ед ут ель авать ский ▁пе ог ва ▁гол ук ▁продавать ся ▁ка ем об ость жд мент коро ▁доставка ▁ск воз руд ▁туш ория ▁ло ▁куриный ция ▁тон ▁ч ▁катег енный овы ▁категория ▁оп лад ▁нали че ний ▁жир ▁х ни ▁бара пат ной ▁ра рез ств ля ле ▁кор ▁склад ▁полут ▁са ▁налич ▁полутуш ▁замор живать оку ▁груд ▁цб аживать ▁замораживать ▁наличие лаг ▁тонна ▁производство ▁лопат ку им ▁ре итель жа ▁объ ждать та ▁сорт ▁баран ▁объем чень ▁весь овать ▁баранина лагать ▁свинина чество про ение но ▁продук ▁окоро ▁печень овый ▁сам чи ца ▁предлагать ▁доку ▁документ ▁ком руб ▁под ще зок ▁л оск оя ▁фи осс дс оч ▁ндс\n"
     ]
    }
   ],
   "source": [
    "filename_lemma = \"datasets/lem_text.txt\"\n",
    "VOCAB_SIZE = 300\n",
    "BPE_MODEL_FILENAME = f\"weights/bpe_{VOCAB_SIZE}.yttm\"\n",
    "#-----\n",
    "# yttm.BPE.train(data=filename_lemma, vocab_size=VOCAB_SIZE, model=BPE_MODEL_FILENAME)\n",
    "#-----\n",
    "tokenizer = yttm.BPE(BPE_MODEL_FILENAME)\n",
    "print(\" \".join(tokenizer.vocab()))"
   ]
  },
  {
   "cell_type": "markdown",
   "metadata": {},
   "source": [
    "В словаре, помимо токенов, встречающихся в тексте, существуют ещё 4 служебных токена:\n",
    "- `<PAD>` токен паддинга, нулевой токен. Необходим для паддинга, чтобы модель понимала, что этот токен ничего не значит\n",
    "- `<UNK>` токен для неизвестного словарю символа, если вдруг такой в тексте попадётся\n",
    "- `<BOS>` токен начала строки (отзыва)\n",
    "- `<EOS>` токен конца строки (отзыва)"
   ]
  },
  {
   "cell_type": "markdown",
   "metadata": {},
   "source": [
    "Были рассмотрены словари разных размеров (200, 300, 400, 500, 800 слов). При рассмотрении (и обучении различных моделей) оптимальным смотрится словарь из 300 символов (так как при расширении какого-то заметного прироста это не даёт, а при уменьшении качество модели уже падает)"
   ]
  },
  {
   "cell_type": "code",
   "execution_count": 60,
   "metadata": {},
   "outputs": [],
   "source": [
    "def load_text_from_file(filename):\n",
    "    \"\"\"Функция для загрузки из txt-файла текста\"\"\"\n",
    "    with open(filename) as f:\n",
    "        lines = [line[:-1] for line in f.readlines()]\n",
    "    return lines"
   ]
  },
  {
   "cell_type": "code",
   "execution_count": 61,
   "metadata": {},
   "outputs": [],
   "source": [
    "lemma_text = load_text_from_file(filename_lemma)"
   ]
  },
  {
   "cell_type": "markdown",
   "metadata": {},
   "source": [
    "Посмотрим, что все тексты на месте, их количество - 16438 - не изменилось, и тексты соответсвуют классовым токенам"
   ]
  },
  {
   "cell_type": "code",
   "execution_count": 62,
   "metadata": {},
   "outputs": [
    {
     "name": "stdout",
     "output_type": "stream",
     "text": [
      "16438\n",
      "[' часть баранина   часть баранина', 'баранина   часть зам цена   руб', 'баранина   часть зам цена   руб', 'баранина   часть охла', 'баранина   часть охла цена   руб']\n",
      "16438\n",
      "[0, 0, 0, 0, 0]\n"
     ]
    }
   ],
   "source": [
    "print(len(lemma_text))\n",
    "print(lemma_text[:5])\n",
    "print(len(num_labels))\n",
    "print(num_labels[:5])"
   ]
  },
  {
   "cell_type": "markdown",
   "metadata": {},
   "source": [
    "Поделим выборку на тренировочную и тестовую (валидационную, потому что по ней мы подбираем гиперпараметры). Возьмём 20% для валидационной части с помощью функции train_test_split из библиотеки scikit-learn"
   ]
  },
  {
   "cell_type": "code",
   "execution_count": 65,
   "metadata": {},
   "outputs": [
    {
     "name": "stdout",
     "output_type": "stream",
     "text": [
      "14794\n",
      "1644\n"
     ]
    }
   ],
   "source": [
    "train_text, val_text, train_labels, val_labels = train_test_split(lemma_text, num_labels, test_size=0.1)\n",
    "\n",
    "print(len(train_text))\n",
    "print(len(val_text))"
   ]
  },
  {
   "cell_type": "markdown",
   "metadata": {},
   "source": [
    "Поскольку выборка в тренировочную и тестовую часть происходит случайно, посмотрим, не изменилось ли у нас распределение (какой-то класс, например, практически вообще не попал в какую-то из выборок)"
   ]
  },
  {
   "cell_type": "code",
   "execution_count": 66,
   "metadata": {},
   "outputs": [
    {
     "data": {
      "image/png": "[encoded data removed]",
      "text/plain": [
       "<Figure size 640x480 with 1 Axes>"
      ]
     },
     "metadata": {},
     "output_type": "display_data"
    }
   ],
   "source": [
    "plot_unique_labels(train_labels, plot_name=\"Распределение уникальных значений тренировочной выборки\")"
   ]
  },
  {
   "cell_type": "code",
   "execution_count": 67,
   "metadata": {},
   "outputs": [
    {
     "data": {
      "image/png": "[encoded data removed]",
      "text/plain": [
       "<Figure size 640x480 with 1 Axes>"
      ]
     },
     "metadata": {},
     "output_type": "display_data"
    }
   ],
   "source": [
    "plot_unique_labels(val_labels, plot_name=\"Распределение уникальных значений тестовой выборки\")"
   ]
  },
  {
   "cell_type": "markdown",
   "metadata": {},
   "source": [
    "Как видно из графиков, распределение осталось такое же у всех"
   ]
  },
  {
   "cell_type": "markdown",
   "metadata": {},
   "source": [
    "Теперь совершим токенизацию текста!"
   ]
  },
  {
   "cell_type": "code",
   "execution_count": 68,
   "metadata": {},
   "outputs": [],
   "source": [
    "train_tokens = tokenizer.encode(train_text, bos=True, eos=True)\n",
    "val_tokens = tokenizer.encode(val_text, bos=True, eos=True)"
   ]
  },
  {
   "cell_type": "markdown",
   "metadata": {},
   "source": [
    "Осталось определить ещё одну вещь - длину исследуемого текста, которую будет обрабатывать модель, которая у всех должна быть одинаковой. Тексты и до этого были распределены в достаточно большом диапазоне возможных длин, а после токенизации, когда замена буквенных символов в токены не одинакова по размеру, амплитуда длин может быть ещё больше"
   ]
  },
  {
   "cell_type": "code",
   "execution_count": 106,
   "metadata": {},
   "outputs": [
    {
     "data": {
      "image/png": "[encoded data removed]",
      "text/plain": [
       "<Figure size 1500x500 with 2 Axes>"
      ]
     },
     "metadata": {},
     "output_type": "display_data"
    }
   ],
   "source": [
    "fig, axs = plt.subplots(nrows = 1, ncols = 2, figsize=(15, 5))\n",
    "\n",
    "# Тренировочная выборка\n",
    "axs[0].hist([len(sentence) for sentence in train_tokens], bins=100)\n",
    "axs[0].vlines([np.percentile([len(sentence) for sentence in train_tokens], 50)], [0], [13000], label=\"50 персентиль\", color=\"green\")\n",
    "axs[0].vlines([np.percentile([len(sentence) for sentence in train_tokens], 70)], [0], [13000], label=\"70 персентиль\", color=\"red\")\n",
    "axs[0].set_title('Распределение длин фрагментов тренировочной выборки в токенах')\n",
    "axs[0].legend()\n",
    "\n",
    "# Тестовая выборка\n",
    "axs[1].hist([len(sentence) for sentence in val_tokens], bins=100)\n",
    "axs[1].vlines([np.percentile([len(sentence) for sentence in val_tokens], 50)], [0], [1000], label=\"50 персентиль\", color=\"green\")\n",
    "axs[1].vlines([np.percentile([len(sentence) for sentence in val_tokens], 70)], [0], [1000], label=\"70 персентиль\", color=\"red\")\n",
    "axs[1].set_title('Распределение длин фрагментов валидационной выборки в токенах')\n",
    "axs[1].legend()\n",
    "\n",
    "# Также обрежем x до 200 токенов, т.к. есть примеры с гигантскими значениями, которых очень мало\n",
    "axs[0].set_xlim(0, 200)\n",
    "axs[1].set_xlim(0, 200)\n",
    "\n",
    "plt.show()"
   ]
  },
  {
   "cell_type": "markdown",
   "metadata": {},
   "source": [
    "Длины текста в токенах могут быть совершенно разными, однако для словаря из 300 токенов больше 50% отзывов меньше 25 токенов. 70-персентиль находится примерно на 40 токенах.  \n",
    "Таким образом, мы эверистически будем дополнять текст объявления до `40` токенов паддингом, а отзывы, что больше по длине - обрезать. Предполагаем, что основная информация находится в начале объёявления (если просмотреть датасет, можно заметить, что зачастую первым же словом пишут, что продают. Возможно, это связано с тем, что объявлений много, и на сайтах пишется начало, а продолжение скрыто за троеточием, которое надо раскрыть или вообще перейти на старницу объявление. Поэтому люди пишут самое важное в самом начале, чтобы это просто было видно при беглом просмотре кучи объявлений о продаже мяса).\n",
    "\n",
    "Также в модели есть настройка, позволяющая менять длину входящего текста, так что можно посмотреть, насколько мы с этим параметром угадали"
   ]
  },
  {
   "cell_type": "markdown",
   "metadata": {},
   "source": [
    "P.S. Дополнение\n",
    "\n",
    "Как показала практика, при обрезке не до 40, а до `60` токенов модель работает примерно также, но чуть лучше отличает Куру от Цыплёнка\n",
    "\n",
    "А вот увеличение до `80` ничего не изменило"
   ]
  },
  {
   "cell_type": "markdown",
   "metadata": {},
   "source": [
    "## Построение модели"
   ]
  },
  {
   "cell_type": "markdown",
   "metadata": {},
   "source": [
    "Для обучения модели построим несколько, не считая файлов конфига, питоновских файлов, которые находятся в пакете `product_detection`.\n",
    "- `models` - папка, в которой находятся файлы модели и оболочка:\n",
    "    - `model.py` для классов модели\n",
    "    - `shell.py` для оболочки pytorch lightning\n",
    "- `data.py` для логики обработки данных и классов Dataset и LightningDataModule\n",
    "- `train.py` для тренировки модели"
   ]
  },
  {
   "cell_type": "markdown",
   "metadata": {},
   "source": [
    "### data.py"
   ]
  },
  {
   "cell_type": "markdown",
   "metadata": {},
   "source": [
    "Тут находятся функции, которые были рассмотрены выше в области `Предобработка данных`.  \n",
    "\n",
    "Также здесь класс `LanduageModelDataset`, который наследуется от торчевского `Dataset`. Он принимает в себя уже лемматизированные и очищенные данные (те, что храняться в сохранённом txt-файле), а также размер chunk - длины объявления, которую будет модель обрабатывать. Он осуществляет возврат очищенных и обрезанных (или дополненных паддингом) данных и класс  \n",
    "\n",
    "`TextClassification_DataModule` класса `LightningDataModule` осуществляет предобработку данных, описанных выше, от получения csv-файла до сохранения лемматизированных и очищенных файлов в txt-формат. Также кидает данные в `LanduageModelDataset` и при тренировке возвращает модули `DataLoader`.  "
   ]
  },
  {
   "cell_type": "markdown",
   "metadata": {},
   "source": [
    "### model.py"
   ]
  },
  {
   "cell_type": "markdown",
   "metadata": {},
   "source": [
    "Здесь находятся классы, по которым строится модель"
   ]
  },
  {
   "cell_type": "markdown",
   "metadata": {},
   "source": [
    "Для построения модели с архитектурой энкодера трансформера с отдельным токеном класса используются следующие классы, написанные вручную:\n",
    "1) `Class_Positions_Embeddings` - класс для создания позиционного кодирования и добавления токена класса, который модель в итоге и должна предсказать. Позиционное кодирование в данном случае реализуется через nn.Parameter, которые изменяются в ходе обучения модели, но можно использовать и статический вариант, вроде кодирования с помощью синусов и косинусов.\n",
    "2) `MLP` - класс перцептрона для блока и для финальной классификации токена класса. Реализован через один входной и один выходной слой с возможностью повышения/понижения размерности.\n",
    "3) `Attention` - класс внимания модели. Собственно, реализация классического внимания трансформера. Для увеличения продуктивности (повышения именно матричных операций для видеокарты) считается одна большая матрица, которая потом с помощью библиотеки einops делится на внимания голов.\n",
    "4) `Block` - собственно, слой внимания вместе с нормализацией и перцептроном в конце. Есть настройка, в каком порядке использовать нормализацию - postnorm, то есть attention->skip_connection->norm->mlp_>skip_connection->norm, или prenorm, то есть norm->attention->skip_connection->norm->mlp_>skip_connection.\n",
    "5) `Transformer` - класс трансформера. Просто несколько слоёв класса Block подряд.\n",
    "6) `SpecificBERT` - класс, который собирает Class_Positions_Embeddings, Transformer и последний классификатор MLP вместе."
   ]
  },
  {
   "cell_type": "markdown",
   "metadata": {},
   "source": [
    "### shell.py"
   ]
  },
  {
   "cell_type": "markdown",
   "metadata": {},
   "source": [
    "Здесь находятся класс оболочки модели в pytorch lightning и класс дополнительного логирования матрицы ответов"
   ]
  },
  {
   "cell_type": "markdown",
   "metadata": {},
   "source": [
    "1) `Model_Lightning_Shell` - обёрнутый в lighning SpecificBERT. Используется два варианта sheduler - ReduceOnPlateau и OneCycleLR - и кросс-энтропия в качестве loss-функции.\n",
    "2) `ConfMatrixLogging`, наследуемый от lightning.Callback. Он позволяет логировать на каждой эпохе обучения матрицу ответов модели по всем классам, что позволит детально посмотреть, что именно она не так предсказала."
   ]
  },
  {
   "cell_type": "markdown",
   "metadata": {},
   "source": [
    "### train.py"
   ]
  },
  {
   "cell_type": "markdown",
   "metadata": {},
   "source": [
    "При запуске этого файла начинается обучение модели с заданными в конфиге параметрами. Управление конфигурационными файлами осуществляется с помощью `hydra`. \n",
    "\n",
    "Производится последовательное создание экземпляров класса `TextClassification_DataModule` и `Model_Lightning_Shell`, а также различных callback для lightning: \n",
    "- `WandbLogger` для логирования процесса обучения модели на wandb\n",
    "- `ModelCheckpoint` для сохранения лучших весов модели по метрике `val_loss`\n",
    "- `LearningRateMonitor` для просмотра, как изменялся lr во время обучения с помощью scheduler\n",
    "- `EarlyStopping` для завершения обучения в случае, если модель начала переобучаться\n",
    "- `ConfMatrixLogging`, определённый в shell.py"
   ]
  },
  {
   "cell_type": "markdown",
   "metadata": {},
   "source": [
    "## Обучение модели"
   ]
  },
  {
   "cell_type": "code",
   "execution_count": 107,
   "metadata": {},
   "outputs": [],
   "source": [
    "# Обучение можно запустить через следующую команду. \n",
    "# Гиперпарметры берутся из файла product_detection/conf/config.yaml\n",
    "# Для работы и автоматического логирование на wandb необходим файл .env в корне с прописанным в нём WANDB_KEY\n",
    "\n",
    "# Для использования scheduler ReduceOnPlateau:\n",
    "# !python product_detection/train.py +scheduler=reduce_plateau\n",
    "\n",
    "# Для использования scheduler OneCycleLR:\n",
    "# !python product_detection/train.py +scheduler=one_cycle"
   ]
  },
  {
   "cell_type": "markdown",
   "metadata": {},
   "source": [
    "При обучении мы смотрим на 3 метрики:\n",
    "- Функция потерь - для понимания, что модель учится и приближается к минимуму\n",
    "- F1-метрика - точность модели с учётом того, что количество примеров для каждого класса у нас сильно отличается\n",
    "- Accuracy - точность модели без учёта разнокалиберности примеров"
   ]
  },
  {
   "cell_type": "markdown",
   "metadata": {},
   "source": [
    "Прогон обучения модели осуществлялся с логированием результатов на [wandb](https://wandb.ai/lost_in_thoughts/product_detection)"
   ]
  },
  {
   "cell_type": "markdown",
   "metadata": {},
   "source": [
    "## Анализ результатов обучения"
   ]
  },
  {
   "cell_type": "markdown",
   "metadata": {},
   "source": [
    "Посмотрим, как обучилась наша модель. Для начала, распишем параметры модели:\n",
    "\n",
    "| Параметр | Значение |\n",
    "| --- | --- |\n",
    "| Размер словаря | 300 |\n",
    "| Окно контекста | 60 |\n",
    "| Слои | 8 |\n",
    "| Головы self-attention| 4 |\n",
    "| Пространство эмбеддингов | 256 |\n",
    "| Размерность mlp-классификатора | 512 |\n",
    "| Dropout | 0.1 |\n",
    "| Learning rate | 3e-4 |"
   ]
  },
  {
   "cell_type": "markdown",
   "metadata": {},
   "source": [
    "И посмотрим на обучающие кривые, на точность модели:"
   ]
  },
  {
   "cell_type": "markdown",
   "metadata": {},
   "source": [
    "![alt text](images/Training_curves.png)"
   ]
  },
  {
   "cell_type": "markdown",
   "metadata": {},
   "source": [
    "Как видно, модель достаточно быстро вышла на \"плато\", получив неплохую точность в 0.92 как по f1, так и по accuracy. \n",
    "\n",
    "Посмотрим на матрицу ответов модели, чтобы понять, а где же она потеряла эти 8% точности:"
   ]
  },
  {
   "cell_type": "markdown",
   "metadata": {},
   "source": [
    "![alt text](images/Answer_Matrix.png)"
   ]
  },
  {
   "cell_type": "markdown",
   "metadata": {},
   "source": [
    "По матрице ответов видно, что модель может путать классы \"Кура\" и \"Цыплёнок\". Что неудивительно, ведь эти объявления по этим классам действительно смежные и оба относятся к куриным изделиям.\n",
    "\n",
    "Остальные классы модель превосходно отличает и классфицирует за редкими исключениями-выбросами (не превышающими 1.5%), которые могут быть из-за:\n",
    "- ошибки модели;\n",
    "- кривого описания, где не написано, что продаётся, а просто, например, мясо и колв-о тонн, мол, покупатель же видит, что он смотрит в отделе \"говядина\";\n",
    "- изначально неправильно классифицированного объект, человек ошибся, не туда нажал."
   ]
  },
  {
   "cell_type": "markdown",
   "metadata": {},
   "source": [
    "## Сохранение модели и её дальнейшее использование"
   ]
  },
  {
   "cell_type": "markdown",
   "metadata": {},
   "source": [
    "Выберем модель с окном контекста в 60 в качестве той, которую будем использовать для финальных результатов. Сохраним её в формат `onnx` (конвертация сделана в файле product_detection/model_conversion.py, сами веса модели лежат по пути weights/self_model.onnx).\n",
    "\n",
    "Поскольку для модели в формале onnx необходим пример входных данных (в том числе батч), а размер проверочного датасета я не знаю, будет ли он делаиться нацело на на какое-либо число, я сделал входную размерность модели (1, 60) и подаю на вход по одному примеру, после чего добавляю в лист ответа. При известной (фиксированной) размерности входных данных можно будет более оптимизированно представить эту функцию"
   ]
  },
  {
   "cell_type": "markdown",
   "metadata": {},
   "source": [
    "Для дальнейшего использования используем функцию `get_result`. Ниже приведён пример загрузки проверочных данных (файл построенный по такому же принципу, как и исходный датасет - csv файл, с шапкой text;mtype, разделитем в виде точки с запятой)."
   ]
  },
  {
   "cell_type": "code",
   "execution_count": 5,
   "metadata": {},
   "outputs": [],
   "source": [
    "from tests.prod_functions import get_result\n",
    "from product_detection.data import load_dataset\n",
    "\n",
    "def get_result_test():\n",
    "    x, y = load_dataset(\"datasets/testmeat.csv\", min_count=1)\n",
    "    to_pred = pd.Series(x)\n",
    "\n",
    "    answer = get_result(to_pred)\n",
    "\n",
    "    for i in range(len(answer)):\n",
    "        print(to_pred[i])\n",
    "        print(answer[i])\n",
    "        print(\"-----\")"
   ]
  },
  {
   "cell_type": "code",
   "execution_count": 6,
   "metadata": {},
   "outputs": [
    {
     "name": "stdout",
     "output_type": "stream",
     "text": [
      "Набор для бульона свиной Набор для бульона свиной  в наличии  76р/кг.\n",
      "Свинина\n",
      "-----\n",
      "Мясо премиум Предлагаем котлетное мясо мраморной говядины.\n",
      "Говядина\n",
      "-----\n",
      "спинка цб\n",
      "Цыпленок\n",
      "-----\n",
      "Говядина блочная 2 сорт в наличии ООО \"АгроСоюз\" реализует блочную говядину 2 сорт (80/20)\n",
      "Свободный объем 8 тонн Самовывоз или доставка. Все подробности по телефону.\n",
      "Говядина\n",
      "-----\n",
      "Куриная разделка Продам кур и куриную разделку гост и халяль по хорошей цене .Тел:\n",
      "Кура\n",
      "-----\n",
      "Говяжью мукозу Продам говяжью мукозу в охл и замороженном виде. Есть объем.\n",
      "Говядина\n",
      "-----\n"
     ]
    }
   ],
   "source": [
    "get_result_test()"
   ]
  }
 ],
 "metadata": {
  "kernelspec": {
   "display_name": "nlp_neg",
   "language": "python",
   "name": "python3"
  },
  "language_info": {
   "codemirror_mode": {
    "name": "ipython",
    "version": 3
   },
   "file_extension": ".py",
   "mimetype": "text/x-python",
   "name": "python",
   "nbconvert_exporter": "python",
   "pygments_lexer": "ipython3",
   "version": "3.10.13"
  }
 },
 "nbformat": 4,
 "nbformat_minor": 2
}
